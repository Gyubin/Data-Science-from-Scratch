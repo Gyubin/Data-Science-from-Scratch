{
 "cells": [
  {
   "cell_type": "markdown",
   "metadata": {},
   "source": [
    "# 6. Probability\n",
    "\n",
    "## 6.1 종속성과 독립성\n",
    "\n",
    "pass\n",
    "\n",
    "## 6.2 조건부 확률\n",
    "\n",
    "코드가 재밌어서 기록. 사건이 일어난 횟수 기반으로 계산했다.\n",
    "\n",
    "- `P(both | older)` : 첫째가 여자일 때, 자매 모두 여자일 확률\n",
    "- `P(both | either)` : 자매 중 최소 1명이 여자일 때, 자매 모두 여자일 확률"
   ]
  },
  {
   "cell_type": "code",
   "execution_count": 1,
   "metadata": {},
   "outputs": [],
   "source": [
    "import random\n",
    "\n",
    "def random_kid():\n",
    "    return random.choice([\"boy\", \"girl\"])"
   ]
  },
  {
   "cell_type": "code",
   "execution_count": 2,
   "metadata": {},
   "outputs": [
    {
     "name": "stdout",
     "output_type": "stream",
     "text": [
      "P(both | older): 0.5007089325501317\n",
      "P(both | either):  0.3311897106109325\n"
     ]
    }
   ],
   "source": [
    "both_girls = 0\n",
    "older_girl = 0\n",
    "either_girl = 0\n",
    "\n",
    "random.seed(0)\n",
    "for _ in range(10000):\n",
    "    younger = random_kid()\n",
    "    older = random_kid()\n",
    "    if older == \"girl\":\n",
    "        older_girl += 1\n",
    "    if older == \"girl\" and younger == \"girl\":\n",
    "        both_girls += 1\n",
    "    if older == \"girl\" or younger == \"girl\":\n",
    "        either_girl += 1\n",
    "\n",
    "print (\"P(both | older):\", both_girls / older_girl)\n",
    "print (\"P(both | either): \", both_girls / either_girl)"
   ]
  },
  {
   "cell_type": "markdown",
   "metadata": {},
   "source": [
    "## 6.3 베이즈 정리\n",
    "\n",
    "pass"
   ]
  },
  {
   "cell_type": "markdown",
   "metadata": {},
   "source": [
    "## 6.4 확률\n",
    "\n",
    "### 6.4.1 확률변수(random variable)\n",
    "\n",
    "$$\n",
    "X(ω):ω\\rightarrow x \\\\\n",
    "P(X=x) = p\n",
    "$$\n",
    "\n",
    "> `ω`라는 sample이 `x`라는 숫자(스칼라 or 벡터)와 매칭된다.\n",
    "\n",
    "> `X`라는 확률변수가 `p`의 확률로 `x`의 값을 가진다.\n",
    "\n",
    "- 일정한 확률을 갖고 발생하는 사건(event)에 수치가 부여되는 변수. 일반적으로 대문자 `X`로 나타낸다.\n",
    "- 확률변수 `X`의 구체적인 값은 소문자 `x`를 사용\n",
    "- 만약 동전의 케이스이고, 앞면-뒷면을 H-T로 표현하고, 각각의 확률이 0.5라면 `P(X='H') = 0.5`로 표현할 수 있을 것"
   ]
  },
  {
   "cell_type": "markdown",
   "metadata": {},
   "source": [
    "### 6.4.2 Probability Function\n",
    "\n",
    "참고 링크 -> 데이터사이언스스쿨의 [확률모형이란](https://datascienceschool.net/view-notebook/56e7a25aad2a4539b3c31eb3eb787a54), [확률분포함수와 확률밀도함수의 차이](https://datascienceschool.net/view-notebook/4d74d1b5651245a7903583f30ae44608/), 스택오버플로우의 [user132704 답변 부분](https://math.stackexchange.com/questions/175850/difference-between-probability-density-function-and-probability-distribution)\n",
    "\n",
    "- 시작은 **Continuous random variable**부터 한다.\n",
    "    + 어떤 연속적인 값들, 예를 들어 시계 바늘이 가리키는 수치를 continuous random variable로 정하겠다.\n",
    "    + 값은 0에서 360 미만까지이고, 15.5도, 20.4831도 등 연속적인 실수 값을 갖는다.\n",
    "- 확률은 uniform distribution을 따를 때 특정 위치, 예를 들어 시계 바늘이 **1을 정확하게 가리킬 확률은 0**이다. 확률 1을 모든 variable의 개수로 나눠야하는지 무한대로 나누기 때문에 0이다.\n",
    "- 그래서 Continuous random variable의 Probability distribution을 설명하려면 **구간 정보(시작, 끝 값)** 가 필요하다. ex) 1에서 2 사이일 확률, 5에서 7 사이의 확률 등\n",
    "- 여기서 두 개의 값을 사용하는 것이 아니라, 시작 값을 특정 값을 고정해서 끝 값만 사용해서 구간 확률을 계산하고, 그를 표현한 것이 **Cumulative distribution function**, **CDF**다\n",
    "    + 일반적으로 시작 값을 음의 무한대로 설정하고\n",
    "    + 대문자 **F**로 함수를 표현한다. F(x)는 x가 끝 값인 CDF의 값이다.\n",
    "    + $F(x)=P({X<x})=P(X<x)$\n",
    "\n",
    "<img src=\"https://upload.wikimedia.org/wikipedia/commons/thumb/c/ca/Normal_Distribution_CDF.svg/600px-Normal_Distribution_CDF.svg.png\" width=\"450\">\n",
    "\n",
    "\n",
    "- 다만 CDF의 단점은 특정 값의 확률을 표현할 수 없다. 우리가 주로 알고싶어하는 정보를 알기가 어렵다. 그래서 이 CDF의 지점을 미분해서 그 기울기 값을 그래프로 표현하게 되는데 이것이 **Probability Density Function**, **PDF**다.\n",
    "    + -무한대에서 +무한대까지 PDF의 값들을 적분하면 값은 1이된다.(전체 확률이 1)\n",
    "    + PDF의 값은 0이상이다. 음수일 수 없다(확률이므로)\n",
    "- Gaussian PDF\n",
    "\n",
    "<img src=\"https://upload.wikimedia.org/wikipedia/commons/thumb/7/74/Normal_Distribution_PDF.svg/720px-Normal_Distribution_PDF.svg.png\" width=\"450\">\n",
    "\n",
    "- PMF: Probability Mass Function\n",
    "\n",
    "<img src=\"https://upload.wikimedia.org/wikipedia/commons/thumb/8/85/Discrete_probability_distrib.svg/440px-Discrete_probability_distrib.svg.png\" width=\"450\">"
   ]
  },
  {
   "cell_type": "markdown",
   "metadata": {},
   "source": [
    "## 6.5 Continuous distribution\n",
    "\n",
    "위에서 따로 정리했으므로 pass"
   ]
  },
  {
   "cell_type": "markdown",
   "metadata": {},
   "source": [
    "## 6.6 Normal distribution\n",
    "\n",
    "Gaussian Density Function으로 표현되는 분포. parameter가 $\\mu$(평균), $\\sigma^2$(분산) 2개 존재\n",
    "\n",
    "![gaussian-density](https://wikimedia.org/api/rest_v1/media/math/render/svg/ffe7c5cbdecda556bf2170e31f1f9a127b74e239)"
   ]
  },
  {
   "cell_type": "markdown",
   "metadata": {},
   "source": [
    "## 6.7 Central limit theorem\n",
    "\n",
    "중심극한정리(CLT): 동일한 확률분포를 가진 독립 확률 변수 n개의 평균의 분포는 n이 적당히 크다면 정규분포에 가까워진다"
   ]
  },
  {
   "cell_type": "code",
   "execution_count": 3,
   "metadata": {},
   "outputs": [],
   "source": [
    "from collections import Counter\n",
    "import matplotlib.pyplot as plt\n",
    "import math\n",
    "\n",
    "def bernoulli_trial(p):\n",
    "    return 1 if random.random() < p else 0\n",
    "\n",
    "def binomial(p, n):\n",
    "    return sum(bernoulli_trial(p) for _ in range(n))\n",
    "\n",
    "def normal_cdf(x, mu=0,sigma=1):\n",
    "    return (1 + math.erf((x - mu) / math.sqrt(2) / sigma)) / 2\n",
    "\n",
    "def make_hist(p, n, num_points):\n",
    "    \n",
    "    data = [binomial(p, n) for _ in range(num_points)]\n",
    "    \n",
    "    # use a bar chart to show the actual binomial samples\n",
    "    histogram = Counter(data)\n",
    "    plt.bar([x - 0.4 for x in histogram.keys()],\n",
    "            [v / num_points for v in histogram.values()],\n",
    "            0.8,\n",
    "            color='0.75')\n",
    "    \n",
    "    mu = p * n\n",
    "    sigma = math.sqrt(n * p * (1 - p))\n",
    "\n",
    "    # use a line chart to show the normal approximation\n",
    "    xs = range(min(data), max(data) + 1)\n",
    "    ys = [normal_cdf(i + 0.5, mu, sigma) - normal_cdf(i - 0.5, mu, sigma) \n",
    "          for i in xs]\n",
    "    plt.plot(xs,ys)\n",
    "    plt.show()"
   ]
  },
  {
   "cell_type": "code",
   "execution_count": 4,
   "metadata": {},
   "outputs": [
    {
     "data": {
      "image/png": "[encoded data removed]",
      "text/plain": [
       "<matplotlib.figure.Figure at 0x11018b5f8>"
      ]
     },
     "metadata": {},
     "output_type": "display_data"
    }
   ],
   "source": [
    "make_hist(0.75,100,1000)"
   ]
  },
  {
   "cell_type": "code",
   "execution_count": 5,
   "metadata": {},
   "outputs": [
    {
     "data": {
      "image/png": "[encoded data removed]",
      "text/plain": [
       "<matplotlib.figure.Figure at 0x111652cf8>"
      ]
     },
     "metadata": {},
     "output_type": "display_data"
    }
   ],
   "source": [
    "make_hist(0.50,100,1000)"
   ]
  }
 ],
 "metadata": {
  "kernelspec": {
   "display_name": "Python 3",
   "language": "python",
   "name": "python3"
  },
  "language_info": {
   "codemirror_mode": {
    "name": "ipython",
    "version": 3
   },
   "file_extension": ".py",
   "mimetype": "text/x-python",
   "name": "python",
   "nbconvert_exporter": "python",
   "pygments_lexer": "ipython3",
   "version": "3.6.2"
  }
 },
 "nbformat": 4,
 "nbformat_minor": 2
}
